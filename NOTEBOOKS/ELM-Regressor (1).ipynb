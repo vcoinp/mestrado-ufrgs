{
 "cells": [
  {
   "cell_type": "code",
   "execution_count": 118,
   "metadata": {},
   "outputs": [],
   "source": [
    "# carregar bibliotecas\n",
    "import pandas as pd\n",
    "import matplotlib.pyplot as plt\n",
    "import seaborn as sn\n",
    "import numpy as np\n",
    "from sklearn import preprocessing\n",
    "import statsmodels.api as sm\n",
    "#from elm import ELMRegressor\n",
    "from simpleELM import ELMRegressor\n"
   ]
  },
  {
   "cell_type": "code",
   "execution_count": 119,
   "metadata": {},
   "outputs": [],
   "source": [
    "path = 'C:/Users/Micro/Desktop/PAIRS_TRADING/DATA/PREBASE/'\n",
    "dfbovespa = pd.read_csv(path+\"COTACOES_consolidado.csv\", sep = ';',encoding=\"ISO-8859-1\")"
   ]
  },
  {
   "cell_type": "code",
   "execution_count": 120,
   "metadata": {},
   "outputs": [],
   "source": [
    "#Seleção do par de ativos para análise de correlação e cointegração\n",
    "acao1 = 'MYPK3'\n",
    "acao2 = 'CIEL3'\n",
    "df_acao1 = dfbovespa[dfbovespa[\"cod_papel\"] == acao1]\n",
    "df_acao2 = dfbovespa[dfbovespa[\"cod_papel\"] == acao2]\n"
   ]
  },
  {
   "cell_type": "code",
   "execution_count": 121,
   "metadata": {},
   "outputs": [
    {
     "data": {
      "text/html": [
       "<div>\n",
       "<style scoped>\n",
       "    .dataframe tbody tr th:only-of-type {\n",
       "        vertical-align: middle;\n",
       "    }\n",
       "\n",
       "    .dataframe tbody tr th {\n",
       "        vertical-align: top;\n",
       "    }\n",
       "\n",
       "    .dataframe thead th {\n",
       "        text-align: right;\n",
       "    }\n",
       "</style>\n",
       "<table border=\"1\" class=\"dataframe\">\n",
       "  <thead>\n",
       "    <tr style=\"text-align: right;\">\n",
       "      <th></th>\n",
       "      <th>MYPK3</th>\n",
       "      <th>CIEL3</th>\n",
       "    </tr>\n",
       "    <tr>\n",
       "      <th>data_pregao</th>\n",
       "      <th></th>\n",
       "      <th></th>\n",
       "    </tr>\n",
       "  </thead>\n",
       "  <tbody>\n",
       "    <tr>\n",
       "      <th>2010-01-04</th>\n",
       "      <td>25.75</td>\n",
       "      <td>15.80</td>\n",
       "    </tr>\n",
       "    <tr>\n",
       "      <th>2010-01-05</th>\n",
       "      <td>26.21</td>\n",
       "      <td>15.69</td>\n",
       "    </tr>\n",
       "    <tr>\n",
       "      <th>2010-01-06</th>\n",
       "      <td>27.65</td>\n",
       "      <td>15.65</td>\n",
       "    </tr>\n",
       "    <tr>\n",
       "      <th>2010-01-07</th>\n",
       "      <td>28.37</td>\n",
       "      <td>16.02</td>\n",
       "    </tr>\n",
       "    <tr>\n",
       "      <th>2010-01-08</th>\n",
       "      <td>28.65</td>\n",
       "      <td>15.82</td>\n",
       "    </tr>\n",
       "  </tbody>\n",
       "</table>\n",
       "</div>"
      ],
      "text/plain": [
       "             MYPK3  CIEL3\n",
       "data_pregao              \n",
       "2010-01-04   25.75  15.80\n",
       "2010-01-05   26.21  15.69\n",
       "2010-01-06   27.65  15.65\n",
       "2010-01-07   28.37  16.02\n",
       "2010-01-08   28.65  15.82"
      ]
     },
     "execution_count": 121,
     "metadata": {},
     "output_type": "execute_result"
    }
   ],
   "source": [
    "df_comp = pd.DataFrame()\n",
    "df_comp['data_pregao'] =  pd.to_datetime(df_acao1['data_pregao'].values)\n",
    "df_comp[acao1] =  df_acao1['preco_ultimo'].values\n",
    "df_comp[acao2] =  df_acao2['preco_ultimo'].values\n",
    "df_comp.set_index('data_pregao', inplace=True)\n",
    "df_comp.head()"
   ]
  },
  {
   "cell_type": "code",
   "execution_count": 122,
   "metadata": {},
   "outputs": [
    {
     "data": {
      "text/html": [
       "<div>\n",
       "<style scoped>\n",
       "    .dataframe tbody tr th:only-of-type {\n",
       "        vertical-align: middle;\n",
       "    }\n",
       "\n",
       "    .dataframe tbody tr th {\n",
       "        vertical-align: top;\n",
       "    }\n",
       "\n",
       "    .dataframe thead th {\n",
       "        text-align: right;\n",
       "    }\n",
       "</style>\n",
       "<table border=\"1\" class=\"dataframe\">\n",
       "  <thead>\n",
       "    <tr style=\"text-align: right;\">\n",
       "      <th></th>\n",
       "      <th>MYPK3</th>\n",
       "      <th>CIEL3</th>\n",
       "      <th>Spread</th>\n",
       "    </tr>\n",
       "    <tr>\n",
       "      <th>data_pregao</th>\n",
       "      <th></th>\n",
       "      <th></th>\n",
       "      <th></th>\n",
       "    </tr>\n",
       "  </thead>\n",
       "  <tbody>\n",
       "    <tr>\n",
       "      <th>2010-01-04</th>\n",
       "      <td>25.75</td>\n",
       "      <td>15.80</td>\n",
       "      <td>9.95</td>\n",
       "    </tr>\n",
       "    <tr>\n",
       "      <th>2010-01-05</th>\n",
       "      <td>26.21</td>\n",
       "      <td>15.69</td>\n",
       "      <td>10.52</td>\n",
       "    </tr>\n",
       "    <tr>\n",
       "      <th>2010-01-06</th>\n",
       "      <td>27.65</td>\n",
       "      <td>15.65</td>\n",
       "      <td>12.00</td>\n",
       "    </tr>\n",
       "    <tr>\n",
       "      <th>2010-01-07</th>\n",
       "      <td>28.37</td>\n",
       "      <td>16.02</td>\n",
       "      <td>12.35</td>\n",
       "    </tr>\n",
       "    <tr>\n",
       "      <th>2010-01-08</th>\n",
       "      <td>28.65</td>\n",
       "      <td>15.82</td>\n",
       "      <td>12.83</td>\n",
       "    </tr>\n",
       "  </tbody>\n",
       "</table>\n",
       "</div>"
      ],
      "text/plain": [
       "             MYPK3  CIEL3  Spread\n",
       "data_pregao                      \n",
       "2010-01-04   25.75  15.80    9.95\n",
       "2010-01-05   26.21  15.69   10.52\n",
       "2010-01-06   27.65  15.65   12.00\n",
       "2010-01-07   28.37  16.02   12.35\n",
       "2010-01-08   28.65  15.82   12.83"
      ]
     },
     "execution_count": 122,
     "metadata": {},
     "output_type": "execute_result"
    }
   ],
   "source": [
    "spread = df_comp[acao1] - df_comp[acao2]\n",
    "df_comp['Spread'] =  spread\n",
    "df_comp.head()"
   ]
  },
  {
   "cell_type": "code",
   "execution_count": 123,
   "metadata": {},
   "outputs": [],
   "source": [
    "from sklearn.model_selection import train_test_split\n",
    "\n",
    "\n",
    "#y= df_comp.Spread\n",
    "#x= df_comp.drop('Spread',axis=1)\n",
    "#x_train,x_test,y_train,y_test=train_test_split(x,y,test_size=0.2)"
   ]
  },
  {
   "cell_type": "code",
   "execution_count": 124,
   "metadata": {},
   "outputs": [],
   "source": [
    "train_df = df_comp['2018-04-30':'2019-06-30']\n",
    "test_df = df_comp['2019-07-01':'2019-12-31']\n",
    "x_train = train_df.drop('Spread',axis=1)\n",
    "x_test = test_df.drop('Spread',axis=1)\n",
    "y_train = train_df.Spread\n",
    "y_test = test_df.Spread"
   ]
  },
  {
   "cell_type": "code",
   "execution_count": 125,
   "metadata": {},
   "outputs": [
    {
     "data": {
      "text/plain": [
       "array([15.23661041, 15.11950302, 14.9609642 , 15.46684265, 15.6280632 ,\n",
       "       15.27774811, 15.0399704 , 14.77418518, 14.9162941 , 15.05579758,\n",
       "       14.92951202, 14.87113953, 15.22933197, 15.2762413 , 15.16331863,\n",
       "       15.46194839, 14.58501053, 14.45008469, 14.85424805, 14.91466904,\n",
       "       14.60969162, 14.59226227, 13.09217072, 13.23753357, 13.03144073,\n",
       "       12.79788208, 12.90840149, 13.19489288, 13.03323364, 12.17946625,\n",
       "       12.09898758, 11.61851883, 11.30350113, 11.75893784, 11.76002502,\n",
       "       11.43027878, 11.28661728, 11.67896652, 11.45516968, 11.59078598,\n",
       "       11.37824631, 11.20249939, 11.40050888, 11.75038528, 11.93843842,\n",
       "       11.81945038, 11.30584717, 11.80017471, 12.13935089, 12.41154861,\n",
       "       12.23988724, 12.15923309, 12.65105438, 12.38026428, 11.79586029,\n",
       "       11.73814774, 11.00502777, 10.94789886, 10.93790436, 10.59001923,\n",
       "       10.42370224, 10.84621429, 10.49438858, 10.82319641, 11.18743896,\n",
       "       10.86349106, 10.7495842 , 10.28780746, 10.8235054 ,  9.98857498,\n",
       "        9.86164856, 10.36959839, 10.85088348, 10.79276276, 10.721241  ,\n",
       "       10.71602631, 11.12341309, 11.19280243, 11.0539093 , 11.30236816,\n",
       "       10.65898132, 10.35334015, 10.6015625 ,  9.70585251, 10.0234642 ,\n",
       "        9.4655838 ,  9.65954208,  9.76065445, 10.30348969, 10.58759689,\n",
       "       11.01106644, 11.24616241, 10.86493301, 10.66033554,  9.84621429,\n",
       "        9.98993683, 10.12005997, 10.53403854, 10.68301392, 10.76408005,\n",
       "       11.21261215, 11.28190994, 11.56272888, 11.4202919 , 11.86803055,\n",
       "       11.56127548, 11.55241013, 11.57173538, 11.51325226, 11.56030273,\n",
       "       11.16854095, 11.11814499, 11.09880829, 11.2790947 , 11.58984756,\n",
       "       11.91754532, 11.52843094, 12.764534  , 12.37313843, 13.03520966,\n",
       "       13.05272675, 14.03630829, 14.14748001, 14.24960327, 14.60960388,\n",
       "       14.99647141])"
      ]
     },
     "execution_count": 125,
     "metadata": {},
     "output_type": "execute_result"
    }
   ],
   "source": [
    "elm = ELMRegressor(n_hidden_units=100)\n",
    "\n",
    "elm.fit(x_train, y_train)\n",
    "prediction = elm.predict(x_test)\n",
    "prediction"
   ]
  },
  {
   "cell_type": "code",
   "execution_count": 126,
   "metadata": {},
   "outputs": [
    {
     "data": {
      "text/html": [
       "<div>\n",
       "<style scoped>\n",
       "    .dataframe tbody tr th:only-of-type {\n",
       "        vertical-align: middle;\n",
       "    }\n",
       "\n",
       "    .dataframe tbody tr th {\n",
       "        vertical-align: top;\n",
       "    }\n",
       "\n",
       "    .dataframe thead th {\n",
       "        text-align: right;\n",
       "    }\n",
       "</style>\n",
       "<table border=\"1\" class=\"dataframe\">\n",
       "  <thead>\n",
       "    <tr style=\"text-align: right;\">\n",
       "      <th></th>\n",
       "      <th>predicted</th>\n",
       "      <th>test</th>\n",
       "    </tr>\n",
       "  </thead>\n",
       "  <tbody>\n",
       "    <tr>\n",
       "      <th>0</th>\n",
       "      <td>15.236610</td>\n",
       "      <td>15.24</td>\n",
       "    </tr>\n",
       "    <tr>\n",
       "      <th>1</th>\n",
       "      <td>15.119503</td>\n",
       "      <td>15.18</td>\n",
       "    </tr>\n",
       "    <tr>\n",
       "      <th>2</th>\n",
       "      <td>14.960964</td>\n",
       "      <td>14.96</td>\n",
       "    </tr>\n",
       "    <tr>\n",
       "      <th>3</th>\n",
       "      <td>15.466843</td>\n",
       "      <td>15.49</td>\n",
       "    </tr>\n",
       "    <tr>\n",
       "      <th>4</th>\n",
       "      <td>15.628063</td>\n",
       "      <td>15.64</td>\n",
       "    </tr>\n",
       "    <tr>\n",
       "      <th>5</th>\n",
       "      <td>15.277748</td>\n",
       "      <td>15.29</td>\n",
       "    </tr>\n",
       "    <tr>\n",
       "      <th>6</th>\n",
       "      <td>15.039970</td>\n",
       "      <td>15.05</td>\n",
       "    </tr>\n",
       "    <tr>\n",
       "      <th>7</th>\n",
       "      <td>14.774185</td>\n",
       "      <td>14.78</td>\n",
       "    </tr>\n",
       "    <tr>\n",
       "      <th>8</th>\n",
       "      <td>14.916294</td>\n",
       "      <td>14.92</td>\n",
       "    </tr>\n",
       "    <tr>\n",
       "      <th>9</th>\n",
       "      <td>15.055798</td>\n",
       "      <td>15.06</td>\n",
       "    </tr>\n",
       "    <tr>\n",
       "      <th>10</th>\n",
       "      <td>14.929512</td>\n",
       "      <td>14.93</td>\n",
       "    </tr>\n",
       "    <tr>\n",
       "      <th>11</th>\n",
       "      <td>14.871140</td>\n",
       "      <td>14.87</td>\n",
       "    </tr>\n",
       "    <tr>\n",
       "      <th>12</th>\n",
       "      <td>15.229332</td>\n",
       "      <td>15.23</td>\n",
       "    </tr>\n",
       "    <tr>\n",
       "      <th>13</th>\n",
       "      <td>15.276241</td>\n",
       "      <td>15.28</td>\n",
       "    </tr>\n",
       "    <tr>\n",
       "      <th>14</th>\n",
       "      <td>15.163319</td>\n",
       "      <td>15.17</td>\n",
       "    </tr>\n",
       "    <tr>\n",
       "      <th>15</th>\n",
       "      <td>15.461948</td>\n",
       "      <td>15.46</td>\n",
       "    </tr>\n",
       "    <tr>\n",
       "      <th>16</th>\n",
       "      <td>14.585011</td>\n",
       "      <td>14.59</td>\n",
       "    </tr>\n",
       "    <tr>\n",
       "      <th>17</th>\n",
       "      <td>14.450085</td>\n",
       "      <td>14.45</td>\n",
       "    </tr>\n",
       "    <tr>\n",
       "      <th>18</th>\n",
       "      <td>14.854248</td>\n",
       "      <td>14.86</td>\n",
       "    </tr>\n",
       "    <tr>\n",
       "      <th>19</th>\n",
       "      <td>14.914669</td>\n",
       "      <td>14.92</td>\n",
       "    </tr>\n",
       "  </tbody>\n",
       "</table>\n",
       "</div>"
      ],
      "text/plain": [
       "    predicted   test\n",
       "0   15.236610  15.24\n",
       "1   15.119503  15.18\n",
       "2   14.960964  14.96\n",
       "3   15.466843  15.49\n",
       "4   15.628063  15.64\n",
       "5   15.277748  15.29\n",
       "6   15.039970  15.05\n",
       "7   14.774185  14.78\n",
       "8   14.916294  14.92\n",
       "9   15.055798  15.06\n",
       "10  14.929512  14.93\n",
       "11  14.871140  14.87\n",
       "12  15.229332  15.23\n",
       "13  15.276241  15.28\n",
       "14  15.163319  15.17\n",
       "15  15.461948  15.46\n",
       "16  14.585011  14.59\n",
       "17  14.450085  14.45\n",
       "18  14.854248  14.86\n",
       "19  14.914669  14.92"
      ]
     },
     "execution_count": 126,
     "metadata": {},
     "output_type": "execute_result"
    }
   ],
   "source": [
    "df_result = pd.DataFrame()\n",
    "df_result['predicted'] = prediction\n",
    "df_result['test'] = y_test.values\n",
    "df_result.head(20)"
   ]
  },
  {
   "cell_type": "code",
   "execution_count": 127,
   "metadata": {},
   "outputs": [
    {
     "data": {
      "text/plain": [
       "data_pregao\n",
       "2019-07-01    15.24\n",
       "2019-07-02    15.18\n",
       "2019-07-03    14.96\n",
       "2019-07-04    15.49\n",
       "2019-07-05    15.64\n",
       "              ...  \n",
       "2019-12-20    14.04\n",
       "2019-12-23    14.15\n",
       "2019-12-26    14.25\n",
       "2019-12-27    14.61\n",
       "2019-12-30    15.01\n",
       "Name: Spread, Length: 126, dtype: float64"
      ]
     },
     "execution_count": 127,
     "metadata": {},
     "output_type": "execute_result"
    }
   ],
   "source": [
    "y_test"
   ]
  },
  {
   "cell_type": "code",
   "execution_count": 128,
   "metadata": {},
   "outputs": [
    {
     "data": {
      "text/plain": [
       "<AxesSubplot:>"
      ]
     },
     "execution_count": 128,
     "metadata": {},
     "output_type": "execute_result"
    },
    {
     "data": {
      "image/png": "[encoded data removed]",
      "text/plain": [
       "<Figure size 432x288 with 1 Axes>"
      ]
     },
     "metadata": {
      "needs_background": "light"
     },
     "output_type": "display_data"
    }
   ],
   "source": [
    "import matplotlib.pyplot as plt\n",
    "df_result.plot()"
   ]
  },
  {
   "cell_type": "code",
   "execution_count": null,
   "metadata": {},
   "outputs": [],
   "source": []
  }
 ],
 "metadata": {
  "kernelspec": {
   "display_name": "Python 3",
   "language": "python",
   "name": "python3"
  },
  "language_info": {
   "codemirror_mode": {
    "name": "ipython",
    "version": 3
   },
   "file_extension": ".py",
   "mimetype": "text/x-python",
   "name": "python",
   "nbconvert_exporter": "python",
   "pygments_lexer": "ipython3",
   "version": "3.8.5"
  }
 },
 "nbformat": 4,
 "nbformat_minor": 4
}

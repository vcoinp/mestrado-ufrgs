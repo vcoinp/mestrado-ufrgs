{
 "cells": [
  {
   "cell_type": "code",
   "execution_count": 1,
   "metadata": {},
   "outputs": [],
   "source": [
    "import pandas as pd\n",
    "path = 'C:/Users/vinicius_coin/Desktop/DADOS_MESTRADO/bovesparser-master/data/'\n",
    "import glob"
   ]
  },
  {
   "cell_type": "code",
   "execution_count": 2,
   "metadata": {},
   "outputs": [],
   "source": [
    "import pandas as pd\n",
    "\n",
    "\n",
    "all_files = glob.glob(path + \"DRE/*.csv\")\n",
    "\n",
    "li = []\n",
    "\n",
    "for filename in all_files:\n",
    "    df = pd.read_csv(filename, sep = ';',encoding=\"ISO-8859-1\", usecols = [\"CNPJ_CIA\", \"DT_REFER\", \"DENOM_CIA\",\"ESCALA_MOEDA\",\"ORDEM_EXERC\",\"DT_INI_EXERC\",\"DT_FIM_EXERC\",\"CD_CONTA\"\n",
    ",\"DS_CONTA\",\"VL_CONTA\"])\n",
    "    li.append(df)\n",
    "\n",
    "frameDRE = pd.concat(li, axis=0, ignore_index=True)\n",
    "frameDRE.to_csv(path+'PREBASE/DRE_consolidado.csv',encoding=\"ISO-8859-1\",sep=\";\", index = False)\n"
   ]
  },
  {
   "cell_type": "code",
   "execution_count": 3,
   "metadata": {},
   "outputs": [],
   "source": [
    "all_files = glob.glob(path + \"DVA/*.csv\")\n",
    "\n",
    "li = []\n",
    "\n",
    "for filename in all_files:\n",
    "    df = pd.read_csv(filename, sep = ';',encoding=\"ISO-8859-1\", usecols = [\"CNPJ_CIA\", \"DT_REFER\", \"DENOM_CIA\",\"ESCALA_MOEDA\",\"ORDEM_EXERC\",\"CD_CONTA\",\"DS_CONTA\"\n",
    ",\"VL_CONTA\"])\n",
    "    li.append(df)\n",
    "\n",
    "frameDVA = pd.concat(li, axis=0, ignore_index=True)\n",
    "frameDVA.to_csv(path+'PREBASE/DVA_consolidado.csv',encoding=\"ISO-8859-1\",sep=\";\", index = False)"
   ]
  },
  {
   "cell_type": "code",
   "execution_count": 4,
   "metadata": {},
   "outputs": [],
   "source": [
    "all_files = glob.glob(path + \"BPP/*.csv\")\n",
    "\n",
    "li = []\n",
    "\n",
    "for filename in all_files:\n",
    "    df = pd.read_csv(filename, sep = ';',encoding=\"ISO-8859-1\", usecols = [\"CNPJ_CIA\", \"DT_REFER\", \"DENOM_CIA\",\"ESCALA_MOEDA\",\"ORDEM_EXERC\",\"CD_CONTA\"\n",
    ",\"DS_CONTA\",\"VL_CONTA\"])\n",
    "    li.append(df)\n",
    "\n",
    "frameBPP = pd.concat(li, axis=0, ignore_index=True)\n",
    "frameBPP.to_csv(path+'PREBASE/BPP_consolidado.csv',encoding=\"ISO-8859-1\",sep=\";\", index = False)"
   ]
  },
  {
   "cell_type": "code",
   "execution_count": 5,
   "metadata": {},
   "outputs": [],
   "source": [
    "all_files = glob.glob(path + \"COTACOES/*.csv\")\n",
    "\n",
    "li = []\n",
    "\n",
    "for filename in all_files:\n",
    "    df = pd.read_csv(filename, sep = ';',encoding=\"ISO-8859-1\")\n",
    "    li.append(df)\n",
    "\n",
    "framecotacoes = pd.concat(li, axis=0, ignore_index=True)\n",
    "framecotacoes.to_csv(path+'PREBASE/COTACOES_consolidado.csv',encoding=\"ISO-8859-1\",sep=\";\", index = False)"
   ]
  },
  {
   "cell_type": "code",
   "execution_count": null,
   "metadata": {},
   "outputs": [],
   "source": []
  }
 ],
 "metadata": {
  "kernelspec": {
   "display_name": "Python 3",
   "language": "python",
   "name": "python3"
  },
  "language_info": {
   "codemirror_mode": {
    "name": "ipython",
    "version": 3
   },
   "file_extension": ".py",
   "mimetype": "text/x-python",
   "name": "python",
   "nbconvert_exporter": "python",
   "pygments_lexer": "ipython3",
   "version": "3.7.1"
  }
 },
 "nbformat": 4,
 "nbformat_minor": 2
}
